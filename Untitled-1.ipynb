{
 "cells": [
  {
   "cell_type": "code",
   "execution_count": 5,
   "metadata": {},
   "outputs": [
    {
     "name": "stderr",
     "output_type": "stream",
     "text": [
      "_GatheringFuture exception was never retrieved\n",
      "future: <_GatheringFuture finished exception=NotImplementedError()>\n",
      "Traceback (most recent call last):\n",
      "  File \"c:\\Users\\fron\\AppData\\Local\\Programs\\Python\\Python311\\Lib\\site-packages\\TikTokApi\\browser_utilities\\browser.py\", line 74, in create\n",
      "    self._thread_locals.playwright = await async_playwright().start()\n",
      "                                     ^^^^^^^^^^^^^^^^^^^^^^^^^^^^^^^^\n",
      "  File \"c:\\Users\\fron\\AppData\\Local\\Programs\\Python\\Python311\\Lib\\site-packages\\playwright\\async_api\\_context_manager.py\", line 51, in start\n",
      "    return await self.__aenter__()\n",
      "           ^^^^^^^^^^^^^^^^^^^^^^^\n",
      "  File \"c:\\Users\\fron\\AppData\\Local\\Programs\\Python\\Python311\\Lib\\site-packages\\playwright\\async_api\\_context_manager.py\", line 46, in __aenter__\n",
      "    playwright = AsyncPlaywright(next(iter(done)).result())\n",
      "                                 ^^^^^^^^^^^^^^^^^^^^^^^^^\n",
      "  File \"c:\\Users\\fron\\AppData\\Local\\Programs\\Python\\Python311\\Lib\\site-packages\\playwright\\_impl\\_transport.py\", line 116, in connect\n",
      "    self._proc = await asyncio.create_subprocess_exec(\n",
      "                 ^^^^^^^^^^^^^^^^^^^^^^^^^^^^^^^^^^^^^\n",
      "  File \"c:\\Users\\fron\\AppData\\Local\\Programs\\Python\\Python311\\Lib\\asyncio\\subprocess.py\", line 218, in create_subprocess_exec\n",
      "    transport, protocol = await loop.subprocess_exec(\n",
      "                          ^^^^^^^^^^^^^^^^^^^^^^^^^^^\n",
      "  File \"c:\\Users\\fron\\AppData\\Local\\Programs\\Python\\Python311\\Lib\\asyncio\\base_events.py\", line 1688, in subprocess_exec\n",
      "    transport = await self._make_subprocess_transport(\n",
      "                ^^^^^^^^^^^^^^^^^^^^^^^^^^^^^^^^^^^^^^\n",
      "  File \"c:\\Users\\fron\\AppData\\Local\\Programs\\Python\\Python311\\Lib\\asyncio\\base_events.py\", line 502, in _make_subprocess_transport\n",
      "    raise NotImplementedError\n",
      "NotImplementedError\n"
     ]
    },
    {
     "ename": "ModuleNotFoundError",
     "evalue": "No module named 'TikTokAPI'",
     "output_type": "error",
     "traceback": [
      "\u001b[1;31m---------------------------------------------------------------------------\u001b[0m",
      "\u001b[1;31mModuleNotFoundError\u001b[0m                       Traceback (most recent call last)",
      "Cell \u001b[1;32mIn[5], line 1\u001b[0m\n\u001b[1;32m----> 1\u001b[0m \u001b[39mfrom\u001b[39;00m \u001b[39mTikTokAPI\u001b[39;00m \u001b[39mimport\u001b[39;00m TikTokAPI\n",
      "\u001b[1;31mModuleNotFoundError\u001b[0m: No module named 'TikTokAPI'"
     ]
    }
   ],
   "source": [
    "from TikTokAPI import TikTokAPI\n"
   ]
  },
  {
   "cell_type": "code",
   "execution_count": 4,
   "metadata": {},
   "outputs": [
    {
     "name": "stdout",
     "output_type": "stream",
     "text": [
      "Requirement already satisfied: TikTokApi in c:\\users\\fron\\appdata\\local\\programs\\python\\python311\\lib\\site-packages (5.2.2)\n",
      "Requirement already satisfied: requests in c:\\users\\fron\\appdata\\local\\programs\\python\\python311\\lib\\site-packages (from TikTokApi) (2.28.1)\n",
      "Requirement already satisfied: playwright in c:\\users\\fron\\appdata\\local\\programs\\python\\python311\\lib\\site-packages (from TikTokApi) (1.30.0)\n",
      "Requirement already satisfied: greenlet==2.0.1 in c:\\users\\fron\\appdata\\local\\programs\\python\\python311\\lib\\site-packages (from playwright->TikTokApi) (2.0.1)\n",
      "Requirement already satisfied: pyee==9.0.4 in c:\\users\\fron\\appdata\\local\\programs\\python\\python311\\lib\\site-packages (from playwright->TikTokApi) (9.0.4)\n",
      "Requirement already satisfied: typing-extensions in c:\\users\\fron\\appdata\\local\\programs\\python\\python311\\lib\\site-packages (from pyee==9.0.4->playwright->TikTokApi) (4.4.0)\n",
      "Requirement already satisfied: charset-normalizer<3,>=2 in c:\\users\\fron\\appdata\\local\\programs\\python\\python311\\lib\\site-packages (from requests->TikTokApi) (2.1.1)\n",
      "Requirement already satisfied: idna<4,>=2.5 in c:\\users\\fron\\appdata\\local\\programs\\python\\python311\\lib\\site-packages (from requests->TikTokApi) (3.4)\n",
      "Requirement already satisfied: urllib3<1.27,>=1.21.1 in c:\\users\\fron\\appdata\\local\\programs\\python\\python311\\lib\\site-packages (from requests->TikTokApi) (1.26.13)\n",
      "Requirement already satisfied: certifi>=2017.4.17 in c:\\users\\fron\\appdata\\local\\programs\\python\\python311\\lib\\site-packages (from requests->TikTokApi) (2022.12.7)\n",
      "Note: you may need to restart the kernel to use updated packages.\n"
     ]
    },
    {
     "name": "stderr",
     "output_type": "stream",
     "text": [
      "\n",
      "[notice] A new release of pip available: 22.3.1 -> 23.0\n",
      "[notice] To update, run: python.exe -m pip install --upgrade pip\n"
     ]
    }
   ],
   "source": [
    "pip install TikTokApi"
   ]
  }
 ],
 "metadata": {
  "kernelspec": {
   "display_name": "Python 3",
   "language": "python",
   "name": "python3"
  },
  "language_info": {
   "codemirror_mode": {
    "name": "ipython",
    "version": 3
   },
   "file_extension": ".py",
   "mimetype": "text/x-python",
   "name": "python",
   "nbconvert_exporter": "python",
   "pygments_lexer": "ipython3",
   "version": "3.11.1 (tags/v3.11.1:a7a450f, Dec  6 2022, 19:58:39) [MSC v.1934 64 bit (AMD64)]"
  },
  "orig_nbformat": 4,
  "vscode": {
   "interpreter": {
    "hash": "c254c8362d41b75e8d360f75e7218757f4e1bb418b6598606164e864caeaf1a2"
   }
  }
 },
 "nbformat": 4,
 "nbformat_minor": 2
}
